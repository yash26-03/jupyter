{
 "cells": [
  {
   "cell_type": "code",
   "execution_count": 2,
   "id": "0f545e46",
   "metadata": {},
   "outputs": [],
   "source": [
    "\n",
    "def calculator():\n",
    "\n",
    "    # Get dog age\n",
    "    age = input(\"Input dog years: \")\n",
    "\n",
    "    try:\n",
    "        # Cast to float\n",
    "        d_age = float(age)\n",
    "        # If user enters negative number, print message\n",
    "        if(d_age < 0):\n",
    "            print(\"Age can not be a negative number\", age)\n",
    "        # Otherwise, calculate dog's age in human years\n",
    "        elif(d_age == 1):\n",
    "            d_age = 15\n",
    "        elif(d_age == 2):\n",
    "            d_age = 2 * 12\n",
    "        elif(d_age == 3):\n",
    "            d_age = 3 * 9.3\n",
    "        elif(d_age == 4):\n",
    "            d_age = 4 * 8\n",
    "        elif(d_age == 5):\n",
    "            d_age = 5 * 7.2\n",
    "            \n",
    "            \n",
    "         \n",
    "        \n",
    "        print(\"\\n \\t \\'The given dog age\", age, \"is\", d_age, \"human years.'\")\n",
    "    except ValueError:\n",
    "            print(age, \"is an invalid age\")"
   ]
  },
  {
   "cell_type": "code",
   "execution_count": null,
   "id": "e7c2a890",
   "metadata": {},
   "outputs": [],
   "source": []
  },
  {
   "cell_type": "code",
   "execution_count": 3,
   "id": "8ebb4b80",
   "metadata": {},
   "outputs": [],
   "source": [
    "\n",
    "def calculator():\n",
    "\n",
    "    # Get dog age\n",
    "    age = input(\"Input dog years: \")\n",
    "\n",
    "    try:\n",
    "        # Cast to float\n",
    "        d_age = float(age)\n",
    "        # If user enters negative number, print message\n",
    "        if(d_age < 0):\n",
    "            print(\"Age can not be a negative number\", age)\n",
    "        # Otherwise, calculate dog's age in human years\n",
    "        elif(d_age == 1):\n",
    "            d_age = 15\n",
    "        elif(d_age == 2):\n",
    "            d_age = 2 * 12\n",
    "        elif(d_age == 3):\n",
    "            d_age = 3 * 9.3\n",
    "        elif(d_age == 4):\n",
    "            d_age = 4 * 8\n",
    "        elif(d_age == 5):\n",
    "            d_age = 5 * 7.2\n",
    "            \n",
    "            \n",
    "         \n",
    "        \n",
    "        print(\"\\n \\t \\'The given dog age\", age, \"is\", d_age, \"human years.'\")\n",
    "    except ValueError:\n",
    "            print(age, \"is an invalid age\")\n",
    "            calculator()"
   ]
  },
  {
   "cell_type": "code",
   "execution_count": null,
   "id": "a7371001",
   "metadata": {},
   "outputs": [],
   "source": []
  },
  {
   "cell_type": "code",
   "execution_count": null,
   "id": "e3aeee05",
   "metadata": {},
   "outputs": [],
   "source": []
  },
  {
   "cell_type": "code",
   "execution_count": 4,
   "id": "b8574d52",
   "metadata": {},
   "outputs": [],
   "source": [
    "\n",
    "def calculator():\n",
    "\n",
    "    # Get dog age\n",
    "    age = input(\"Input dog years: \")\n",
    "\n",
    "    try:\n",
    "        # Cast to float\n",
    "        d_age = float(age)\n",
    "        # If user enters negative number, print message\n",
    "        if(d_age < 0):\n",
    "            print(\"Age can not be a negative number\", age)\n",
    "        # Otherwise, calculate dog's age in human years\n",
    "        elif(d_age == 1):\n",
    "            d_age = 15\n",
    "        elif(d_age == 2):\n",
    "            d_age = 2 * 12\n",
    "        elif(d_age == 3):\n",
    "            d_age = 3 * 9.3\n",
    "        elif(d_age == 4):\n",
    "            d_age = 4 * 8\n",
    "        elif(d_age == 5):\n",
    "            d_age = 5 * 7.2\n",
    "            \n",
    "            \n",
    "         \n",
    "        \n",
    "        print(\"\\n \\t \\'The given dog age\", age, \"is\", d_age, \"human years.'\")\n",
    "    except ValueError:\n",
    "            print(age, \"is an invalid age\")"
   ]
  },
  {
   "cell_type": "code",
   "execution_count": 5,
   "id": "29b8e32b",
   "metadata": {},
   "outputs": [
    {
     "ename": "NameError",
     "evalue": "name 'yash' is not defined",
     "output_type": "error",
     "traceback": [
      "\u001b[1;31m---------------------------------------------------------------------------\u001b[0m",
      "\u001b[1;31mNameError\u001b[0m                                 Traceback (most recent call last)",
      "\u001b[1;32m~\\AppData\\Local\\Temp\\ipykernel_20576\\1918033407.py\u001b[0m in \u001b[0;36m<module>\u001b[1;34m\u001b[0m\n\u001b[1;32m----> 1\u001b[1;33m print*(yash\n\u001b[0m\u001b[0;32m      2\u001b[0m       )\n",
      "\u001b[1;31mNameError\u001b[0m: name 'yash' is not defined"
     ]
    }
   ],
   "source": [
    "print*(yash\n",
    "      )"
   ]
  },
  {
   "cell_type": "code",
   "execution_count": 6,
   "id": "a0d5916a",
   "metadata": {},
   "outputs": [],
   "source": [
    "\n",
    "def calculator():\n",
    "\n",
    "    # Get dog age\n",
    "    age = input(\"Input dog years: \")\n",
    "\n",
    "    try:\n",
    "        # Cast to float\n",
    "        d_age = float(age)\n",
    "        # If user enters negative number, print message\n",
    "        if(d_age < 0):\n",
    "            print(\"Age can not be a negative number\", age)\n",
    "        # Otherwise, calculate dog's age in human years\n",
    "        elif(d_age == 1):\n",
    "            d_age = 15\n",
    "        elif(d_age == 2):\n",
    "            d_age = 2 * 12\n",
    "        elif(d_age == 3):\n",
    "            d_age = 3 * 9.3\n",
    "        elif(d_age == 4):\n",
    "            d_age = 4 * 8\n",
    "        elif(d_age == 5):\n",
    "            d_age = 5 * 7.2\n",
    "            \n",
    "            \n",
    "         \n",
    "        \n",
    "        print(\"\\n \\t \\'The given dog age\", age, \"is\", d_age, \"human years.'\")\n",
    "    except ValueError:\n",
    "            print(age, \"is an invalid age\")\n",
    "            "
   ]
  },
  {
   "cell_type": "code",
   "execution_count": 10,
   "id": "4b93998e",
   "metadata": {},
   "outputs": [
    {
     "ename": "SyntaxError",
     "evalue": "invalid syntax (1791332263.py, line 23)",
     "output_type": "error",
     "traceback": [
      "\u001b[1;36m  File \u001b[1;32m\"C:\\Users\\PC\\AppData\\Local\\Temp\\ipykernel_20576\\1791332263.py\"\u001b[1;36m, line \u001b[1;32m23\u001b[0m\n\u001b[1;33m    print(\"The given dog age\", age, \"is\", d_age, \"human years.\");\u001b[0m\n\u001b[1;37m    ^\u001b[0m\n\u001b[1;31mSyntaxError\u001b[0m\u001b[1;31m:\u001b[0m invalid syntax\n"
     ]
    }
   ],
   "source": [
    "def calculator():\n",
    "\n",
    "    # Get dog age\n",
    "    age = input(\"Input dog years: \")\n",
    "\n",
    "    try:\n",
    "        # Cast to float\n",
    "        d_age = float(age)\n",
    "        # If user enters negative number, print message\n",
    "        if(d_age < 0):\n",
    "            print(\"Age can not be a negative number\", age)\n",
    "        # Otherwise, calculate dog's age in human years\n",
    "        elif(d_age == 1):\n",
    "            d_age = 15\n",
    "        elif(d_age == 2):\n",
    "            d_age = 2 * 12\n",
    "        elif(d_age == 3):\n",
    "            d_age = 3 * 9.3\n",
    "        elif(d_age == 4):\n",
    "            d_age = 4 * 8\n",
    "        elif(d_age == 5):\n",
    "            d_age = 5 * 7.2\n",
    "    print(\"The given dog age\", age, \"is\", d_age, \"human years.\");"
   ]
  },
  {
   "cell_type": "code",
   "execution_count": null,
   "id": "1c84ec20",
   "metadata": {},
   "outputs": [],
   "source": []
  },
  {
   "cell_type": "code",
   "execution_count": 15,
   "id": "d656fed4",
   "metadata": {},
   "outputs": [
    {
     "ename": "SyntaxError",
     "evalue": "invalid syntax (3905522411.py, line 28)",
     "output_type": "error",
     "traceback": [
      "\u001b[1;36m  File \u001b[1;32m\"C:\\Users\\PC\\AppData\\Local\\Temp\\ipykernel_20576\\3905522411.py\"\u001b[1;36m, line \u001b[1;32m28\u001b[0m\n\u001b[1;33m    round(dog_age,2):\u001b[0m\n\u001b[1;37m                     ^\u001b[0m\n\u001b[1;31mSyntaxError\u001b[0m\u001b[1;31m:\u001b[0m invalid syntax\n"
     ]
    }
   ],
   "source": [
    "def calculator():\n",
    "\n",
    "    # Get dog age\n",
    "    age = input(\"Input dog years: \")\n",
    "\n",
    "    try:\n",
    "        # Cast to float\n",
    "        d_age = float(age)\n",
    "        # If user enters negative number, print message\n",
    "        if(d_age < 0):\n",
    "            print(\"Age can not be a negative number\", age)\n",
    "        # Otherwise, calculate dog's age in human years\n",
    "        elif(d_age == 1):\n",
    "            d_age = 15\n",
    "        elif(d_age == 2):\n",
    "            d_age = 2 * 12\n",
    "        elif(d_age == 3):\n",
    "            d_age = 3 * 9.3\n",
    "        elif(d_age == 4):\n",
    "            d_age = 4 * 8\n",
    "        elif(d_age == 5):\n",
    "            d_age = 5 * 7.2\n",
    "        else:\n",
    "            d_age = 5 * 7.2 + (float(age) - 5) * 7\n",
    "        print(\"\\n \\t \\'The given dog age\", age, \"is\", d_age, \"human years.'\")\n",
    "    except ValueError:\n",
    "            print(age, \"is an invalid age\")\n",
    "round(dog_age,2):\n",
    "calculator()\n"
   ]
  },
  {
   "cell_type": "code",
   "execution_count": 17,
   "id": "489e4885",
   "metadata": {},
   "outputs": [
    {
     "ename": "NameError",
     "evalue": "name 'cv' is not defined",
     "output_type": "error",
     "traceback": [
      "\u001b[1;31m---------------------------------------------------------------------------\u001b[0m",
      "\u001b[1;31mNameError\u001b[0m                                 Traceback (most recent call last)",
      "\u001b[1;32m~\\AppData\\Local\\Temp\\ipykernel_20576\\1777385267.py\u001b[0m in \u001b[0;36m<module>\u001b[1;34m\u001b[0m\n\u001b[0;32m      2\u001b[0m \u001b[1;32mimport\u001b[0m \u001b[0mnumpy\u001b[0m \u001b[1;32mas\u001b[0m \u001b[0mnp\u001b[0m\u001b[1;33m\u001b[0m\u001b[1;33m\u001b[0m\u001b[0m\n\u001b[0;32m      3\u001b[0m \u001b[1;33m\u001b[0m\u001b[0m\n\u001b[1;32m----> 4\u001b[1;33m \u001b[0mvideoCapture\u001b[0m\u001b[1;33m=\u001b[0m\u001b[0mcv\u001b[0m\u001b[1;33m.\u001b[0m\u001b[0mVideoCapture\u001b[0m\u001b[1;33m(\u001b[0m\u001b[1;36m1\u001b[0m\u001b[1;33m)\u001b[0m\u001b[1;33m\u001b[0m\u001b[1;33m\u001b[0m\u001b[0m\n\u001b[0m\u001b[0;32m      5\u001b[0m \u001b[0mprevCircle\u001b[0m\u001b[1;33m=\u001b[0m\u001b[1;32mNone\u001b[0m\u001b[1;33m\u001b[0m\u001b[1;33m\u001b[0m\u001b[0m\n\u001b[0;32m      6\u001b[0m \u001b[0mdist\u001b[0m\u001b[1;33m=\u001b[0m \u001b[1;32mlambda\u001b[0m \u001b[0mx1\u001b[0m\u001b[1;33m,\u001b[0m\u001b[0mx2\u001b[0m\u001b[1;33m,\u001b[0m\u001b[0my1\u001b[0m\u001b[1;33m,\u001b[0m\u001b[0my2\u001b[0m\u001b[1;33m:\u001b[0m \u001b[1;33m(\u001b[0m\u001b[0mx1\u001b[0m\u001b[1;33m-\u001b[0m\u001b[0mx2\u001b[0m\u001b[1;33m)\u001b[0m\u001b[1;33m**\u001b[0m\u001b[1;36m2\u001b[0m\u001b[1;33m+\u001b[0m\u001b[1;33m(\u001b[0m\u001b[0my1\u001b[0m\u001b[1;33m-\u001b[0m\u001b[0my2\u001b[0m\u001b[1;33m)\u001b[0m\u001b[1;33m**\u001b[0m\u001b[1;36m2\u001b[0m\u001b[1;33m\u001b[0m\u001b[1;33m\u001b[0m\u001b[0m\n",
      "\u001b[1;31mNameError\u001b[0m: name 'cv' is not defined"
     ]
    }
   ],
   "source": [
    "\n",
    "from matplotlib.pyplot import gray\n",
    "import numpy as np\n",
    "\n",
    "videoCapture=cv.VideoCapture(1)\n",
    "prevCircle=None\n",
    "dist= lambda x1,x2,y1,y2: (x1-x2)**2+(y1-y2)**2\n",
    "\n",
    "while True:\n",
    "    ret,frame = videoCapture.read()\n",
    "    if not ret: break\n",
    "\n",
    "    grayFrame=cv.cvtColor(frame,cv.COLOR_BGR2GRAY)\n",
    "    blurFrame=cv.GaussianBlur(grayFrame,(17,17),0)\n",
    "\n",
    "    circles=cv.HoughCircles(blurFrame,cv.HOUGH_GRADIENT,1.2,20,param1=100,param2=15,minRadius=1,maxRadius=100)\n",
    "\n",
    "    if circles is not None:\n",
    "        circles= np.uint16(np.around(circles))\n",
    "        chosen = None\n",
    "        for i in circles[0,:]:\n",
    "            if chosen is None:chosen = i\n",
    "            if prevCircle is not None:\n",
    "                if dist(chosen[0],chosen[1],prevCircle[0],prevCircle[1]) <= dist(i[0],i[1],prevCircle[0],prevCircle[1]):\n",
    "                    chosen = i\n",
    "        cv.circle(frame, (chosen[0],chosen[1]),1,(0,100,100),3)\n",
    "        cv.circle(frame,(chosen[0],chosen[1]),chosen[2],(255,0,255),3)\n",
    "        prevCircle = chosen\n",
    "\n",
    "    \n",
    "\n",
    "    cv.imshow(\"circles\",frame)\n",
    "    if cv.waitKey(1) & 0xFF == ord('q'): break\n",
    "\n",
    "videoCapture.release()\n",
    "cv.destroyAllWindows()"
   ]
  },
  {
   "cell_type": "code",
   "execution_count": null,
   "id": "d7442382",
   "metadata": {},
   "outputs": [],
   "source": []
  }
 ],
 "metadata": {
  "kernelspec": {
   "display_name": "Python 3 (ipykernel)",
   "language": "python",
   "name": "python3"
  },
  "language_info": {
   "codemirror_mode": {
    "name": "ipython",
    "version": 3
   },
   "file_extension": ".py",
   "mimetype": "text/x-python",
   "name": "python",
   "nbconvert_exporter": "python",
   "pygments_lexer": "ipython3",
   "version": "3.9.13"
  }
 },
 "nbformat": 4,
 "nbformat_minor": 5
}
