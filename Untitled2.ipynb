{
 "cells": [
  {
   "cell_type": "code",
   "execution_count": 1,
   "id": "d2151ad0",
   "metadata": {},
   "outputs": [],
   "source": [
    "import pandas as pd"
   ]
  },
  {
   "cell_type": "code",
   "execution_count": 3,
   "id": "93344b47",
   "metadata": {},
   "outputs": [
    {
     "name": "stdout",
     "output_type": "stream",
     "text": [
      "what is your nameyash mishra\n",
      "what is your age19\n",
      "your name is yash mishra and your age is 19\n"
     ]
    }
   ],
   "source": [
    "name = input(\"what is your name\")\n",
    "age = input(\"what is your age\")\n",
    "person = \"your name is {} and your age is {}\".format(name,age)\n",
    "print(person)"
   ]
  },
  {
   "cell_type": "code",
   "execution_count": 4,
   "id": "d95a3ef1",
   "metadata": {},
   "outputs": [
    {
     "name": "stdout",
     "output_type": "stream",
     "text": [
      "what is your age78\n",
      "<class 'int'>\n",
      "83\n"
     ]
    }
   ],
   "source": [
    "age = int(input(\"what is your age\"))\n",
    "print(type(age))\n",
    "#by 5 years what will your age\n",
    "print(age +5)"
   ]
  },
  {
   "cell_type": "code",
   "execution_count": 8,
   "id": "b1592e9e",
   "metadata": {},
   "outputs": [
    {
     "name": "stdout",
     "output_type": "stream",
     "text": [
      "what is the bill of the meal40\n",
      "what is the tax on the meal5\n",
      "waht is the tip you have given8\n",
      "the total bill of the customer is 45.2\n"
     ]
    }
   ],
   "source": [
    "bill = float(input(\"what is the bill of the meal\"))\n",
    "tax = float(input(\"what is the tax on the meal\"))\n",
    "tip = float(input(\"waht is the tip you have given\"))\n",
    "#to calculate the tax\n",
    "taxamount = (bill * tax) / 100\n",
    "total =\n"
   ]
  },
  {
   "cell_type": "code",
   "execution_count": 9,
   "id": "fbb8e7d0",
   "metadata": {},
   "outputs": [
    {
     "ename": "TypeError",
     "evalue": "unsupported operand type(s) for +: 'int' and 'str'",
     "output_type": "error",
     "traceback": [
      "\u001b[1;31m---------------------------------------------------------------------------\u001b[0m",
      "\u001b[1;31mTypeError\u001b[0m                                 Traceback (most recent call last)",
      "\u001b[1;32m~\\AppData\\Local\\Temp\\ipykernel_17880\\3517404889.py\u001b[0m in \u001b[0;36m<module>\u001b[1;34m\u001b[0m\n\u001b[0;32m      2\u001b[0m \u001b[0my\u001b[0m \u001b[1;33m=\u001b[0m \u001b[1;34m\"yash\"\u001b[0m\u001b[1;33m\u001b[0m\u001b[1;33m\u001b[0m\u001b[0m\n\u001b[0;32m      3\u001b[0m \u001b[0mz\u001b[0m \u001b[1;33m=\u001b[0m \u001b[1;34m\"yas\"\u001b[0m\u001b[1;33m\u001b[0m\u001b[1;33m\u001b[0m\u001b[0m\n\u001b[1;32m----> 4\u001b[1;33m \u001b[0mprint\u001b[0m\u001b[1;33m(\u001b[0m\u001b[0mx\u001b[0m\u001b[1;33m+\u001b[0m\u001b[0my\u001b[0m\u001b[1;33m+\u001b[0m\u001b[0mz\u001b[0m\u001b[1;33m)\u001b[0m\u001b[1;33m\u001b[0m\u001b[1;33m\u001b[0m\u001b[0m\n\u001b[0m",
      "\u001b[1;31mTypeError\u001b[0m: unsupported operand type(s) for +: 'int' and 'str'"
     ]
    }
   ],
   "source": [
    "x = 5\n",
    "y = \"yash\"\n",
    "z = \"yas\"\n",
    "print(x+y+z)"
   ]
  },
  {
   "cell_type": "code",
   "execution_count": 55,
   "id": "f228726a",
   "metadata": {},
   "outputs": [
    {
     "name": "stdout",
     "output_type": "stream",
     "text": [
      "enter your marks: 88\n",
      "your marks is 88\n"
     ]
    }
   ],
   "source": [
    "grade = int(input(\"enter your marks: \"))\n",
    "\n",
    "if grade >= 90:\n",
    " person = \"your marks is {}\".format(grade)\n",
    " print(person)\n",
    "if grade >= 80:\n",
    " person = \"your marks is {}\".format(grade)\n",
    " print(person)\n",
    "\n"
   ]
  },
  {
   "cell_type": "code",
   "execution_count": 19,
   "id": "eb76964f",
   "metadata": {},
   "outputs": [
    {
     "name": "stdout",
     "output_type": "stream",
     "text": [
      "True\n"
     ]
    }
   ],
   "source": [
    "print(3>=3)"
   ]
  },
  {
   "cell_type": "code",
   "execution_count": null,
   "id": "190c8803",
   "metadata": {},
   "outputs": [],
   "source": [
    "age = (input(\"what is the age of your dog: \"))\n",
    "dog_age = float(age)\n",
    "if dog_age ==1: \n",
    "  person1 = \"the given dog is {} is {} in human ear\".format(age,age*15)\n",
    "  print (person1)\n",
    "if dog_age ==2:\n",
    " person2 = \"the given dog is {} is {} in human ear\".format(age,age*12)\n",
    "print(person2)\n",
    "if dog_age ==3:\n",
    " person3 = \"the given dog is {} is {} in human ear\".format(age,age*9.3) \n",
    " print(person3)\n",
    "if dog_age ==4:\n",
    " person4 = \"the given dog is {} is {} in human ear\".format(age,age*8)\n",
    " print(person4)\n",
    "if dog_age ==5:\n",
    " person5 = \"the given dog is {} is {} in human ear\".format(age,age*7.2)\n",
    " print(person5)\n",
    "if dog_age ==6:\n",
    " person6 = \"the given dog is {} is {} in human ear\".format(age,age*7)\n",
    " print(person6)\n",
    "if dog_age < 0 :\n",
    "    print(\"Age cannot be negative\",age)\n",
    "\n"
   ]
  },
  {
   "cell_type": "code",
   "execution_count": null,
   "id": "a2628c0c",
   "metadata": {},
   "outputs": [],
   "source": [
    "\n",
    "\n",
    "def calculator():\n",
    "\n",
    "    # Get dog age\n",
    "    age = input(\"Input dog years: \")\n",
    "\n",
    "    try:\n",
    "        # Cast to float\n",
    "        d_age = float(age)\n",
    "        # If user enters negative number, print message\n",
    "        if(d_age < 0):\n",
    "            print(\"Age can not be a negative number\", age)\n",
    "        # Otherwise, calculate dog's age in human years\n",
    "        elif(d_age == 1):\n",
    "            d_age = 15\n",
    "        elif(d_age == 2):\n",
    "            d_age = 2 * 12\n",
    "        elif(d_age == 3):\n",
    "            d_age = 3 * 9.3\n",
    "        elif(d_age == 4):\n",
    "            d_age = 4 * 8\n",
    "        elif(d_age == 5):\n",
    "            d_age = 5 * 7.2\n",
    "            \n",
    "            \n",
    "         \n",
    "        \n",
    "        print(\"\\n \\t \\'The given dog age\", age, \"is\", d_age, \"human years.'\")\n",
    "    except ValueError:\n",
    "            print(age, \"is an invalid age\")\n",
    "\n",
    "\n",
    "        "
   ]
  },
  {
   "cell_type": "code",
   "execution_count": null,
   "id": "c19a524c",
   "metadata": {},
   "outputs": [],
   "source": [
    "\n",
    "def calculator():\n",
    "\n",
    "    # Get dog age\n",
    "    age = input(\"Input dog years: \")\n",
    "\n",
    "    try:\n",
    "        # Cast to float\n",
    "        d_age = float(age)\n",
    "        # If user enters negative number, print message\n",
    "        if(d_age < 0):\n",
    "            print(\"Age can not be a negative number\", age)\n",
    "        # Otherwise, calculate dog's age in human years\n",
    "        elif(d_age == 1):\n",
    "            d_age = 15\n",
    "        elif(d_age == 2):\n",
    "            d_age = 2 * 12\n",
    "        elif(d_age == 3):\n",
    "            d_age = 3 * 9.3\n",
    "        elif(d_age == 4):\n",
    "            d_age = 4 * 8\n",
    "        elif(d_age == 5):\n",
    "            d_age = 5 * 7.2\n",
    "            \n",
    "            \n",
    "         \n",
    "        \n",
    "        print(\"\\n \\t \\'The given dog age\", age, \"is\", d_age, \"human years.'\")\n",
    "    except ValueError:\n",
    "            print(age, \"is an invalid age\")"
   ]
  },
  {
   "cell_type": "code",
   "execution_count": null,
   "id": "2d0daa75",
   "metadata": {},
   "outputs": [],
   "source": []
  }
 ],
 "metadata": {
  "kernelspec": {
   "display_name": "Python 3 (ipykernel)",
   "language": "python",
   "name": "python3"
  },
  "language_info": {
   "codemirror_mode": {
    "name": "ipython",
    "version": 3
   },
   "file_extension": ".py",
   "mimetype": "text/x-python",
   "name": "python",
   "nbconvert_exporter": "python",
   "pygments_lexer": "ipython3",
   "version": "3.9.13"
  }
 },
 "nbformat": 4,
 "nbformat_minor": 5
}
