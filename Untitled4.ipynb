{
 "cells": [
  {
   "cell_type": "code",
   "execution_count": 1,
   "id": "de7d1d76",
   "metadata": {},
   "outputs": [],
   "source": [
    "import pandas as pd"
   ]
  },
  {
   "cell_type": "code",
   "execution_count": 8,
   "id": "09fb5dc3",
   "metadata": {},
   "outputs": [
    {
     "name": "stdout",
     "output_type": "stream",
     "text": [
      "what is the age of your dog: 4\n"
     ]
    },
    {
     "ename": "NameError",
     "evalue": "name 'person' is not defined",
     "output_type": "error",
     "traceback": [
      "\u001b[1;31m---------------------------------------------------------------------------\u001b[0m",
      "\u001b[1;31mNameError\u001b[0m                                 Traceback (most recent call last)",
      "\u001b[1;32m~\\AppData\\Local\\Temp\\ipykernel_13224\\66231030.py\u001b[0m in \u001b[0;36m<module>\u001b[1;34m\u001b[0m\n\u001b[0;32m      3\u001b[0m \u001b[1;32mif\u001b[0m \u001b[0mdog_age\u001b[0m \u001b[1;33m==\u001b[0m\u001b[1;36m1\u001b[0m\u001b[1;33m:\u001b[0m\u001b[1;33m\u001b[0m\u001b[1;33m\u001b[0m\u001b[0m\n\u001b[0;32m      4\u001b[0m  \u001b[0mperson\u001b[0m \u001b[1;33m=\u001b[0m \u001b[1;34m\"the given dog is {} is {} in human ear\"\u001b[0m\u001b[1;33m.\u001b[0m\u001b[0mformat\u001b[0m\u001b[1;33m(\u001b[0m\u001b[0mage\u001b[0m\u001b[1;33m,\u001b[0m\u001b[0mage\u001b[0m\u001b[1;33m*\u001b[0m\u001b[1;36m15\u001b[0m\u001b[1;33m)\u001b[0m\u001b[1;33m\u001b[0m\u001b[1;33m\u001b[0m\u001b[0m\n\u001b[1;32m----> 5\u001b[1;33m \u001b[0mprint\u001b[0m \u001b[1;33m(\u001b[0m\u001b[0mperson\u001b[0m\u001b[1;33m)\u001b[0m\u001b[1;33m\u001b[0m\u001b[1;33m\u001b[0m\u001b[0m\n\u001b[0m\u001b[0;32m      6\u001b[0m \u001b[1;32mif\u001b[0m \u001b[0mdog_age\u001b[0m \u001b[1;33m==\u001b[0m\u001b[1;36m2\u001b[0m\u001b[1;33m:\u001b[0m\u001b[1;33m\u001b[0m\u001b[1;33m\u001b[0m\u001b[0m\n\u001b[0;32m      7\u001b[0m  \u001b[0mperson\u001b[0m \u001b[1;33m=\u001b[0m \u001b[1;34m\"the given dog is {} is {} in human ear\"\u001b[0m\u001b[1;33m.\u001b[0m\u001b[0mformat\u001b[0m\u001b[1;33m(\u001b[0m\u001b[0mage\u001b[0m\u001b[1;33m,\u001b[0m\u001b[0mage\u001b[0m\u001b[1;33m*\u001b[0m\u001b[1;36m12\u001b[0m\u001b[1;33m)\u001b[0m\u001b[1;33m\u001b[0m\u001b[1;33m\u001b[0m\u001b[0m\n",
      "\u001b[1;31mNameError\u001b[0m: name 'person' is not defined"
     ]
    }
   ],
   "source": [
    "age = (input(\"what is the age of your dog: \"))\n",
    "dog_age = float(age)\n",
    "if dog_age ==1: \n",
    " person = \"the given dog is {} is {} in human ear\".format(age,age*15)\n",
    "\n",
    "if dog_age ==2:\n",
    " person = \"the given dog is {} is {} in human ear\".format(age,age*12)\n",
    "print(person)\n",
    "if dog_age ==3:\n",
    " person = \"the given dog is {} is {} in human ear\".format(age,age*9.3) \n",
    " print(person)\n",
    "if dog_age ==4:\n",
    " person = \"the given dog is {} is {} in human ear\".format(age,age*8)\n",
    " print(person)\n",
    "if dog_age ==5:\n",
    " person = \"the given dog is {} is {} in human ear\".format(age,age*7.2)\n",
    " print(person)\n",
    "if dog_age ==6:\n",
    " person = \"the given dog is {} is {} in human ear\".format(age,age*7)\n",
    " print(person)\n",
    "if dog_age < 0 :\n",
    "    print(\"Age cannot be negative\",age)"
   ]
  },
  {
   "cell_type": "code",
   "execution_count": null,
   "id": "8d6e59e8",
   "metadata": {},
   "outputs": [],
   "source": []
  }
 ],
 "metadata": {
  "kernelspec": {
   "display_name": "Python 3 (ipykernel)",
   "language": "python",
   "name": "python3"
  },
  "language_info": {
   "codemirror_mode": {
    "name": "ipython",
    "version": 3
   },
   "file_extension": ".py",
   "mimetype": "text/x-python",
   "name": "python",
   "nbconvert_exporter": "python",
   "pygments_lexer": "ipython3",
   "version": "3.9.13"
  }
 },
 "nbformat": 4,
 "nbformat_minor": 5
}
